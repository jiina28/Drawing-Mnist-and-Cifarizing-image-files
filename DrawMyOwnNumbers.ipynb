{
 "cells": [
  {
   "cell_type": "markdown",
   "metadata": {},
   "source": [
    "# The drawing function for inputing one's own writing!\n",
    "This loads packages and defines a function that creates a canvas and anyone can draw on it, the drawing is converted to Mnist style. The function can also take a keras model and run prediction from the hand drawn image yielding a probabilty distribution and plotting the results. You do not need to know how the function works, just execute the cell and call the function 'DrawMyOwnNumbers'"
   ]
  },
  {
   "cell_type": "code",
   "execution_count": 54,
   "metadata": {
    "collapsed": true
   },
   "outputs": [],
   "source": [
    "from tkinter import *\n",
    "import time\n",
    "from PIL import Image, ImageDraw\n",
    "import matplotlib.image as mpimg\n",
    "import matplotlib.pyplot as plt\n",
    "import numpy as np\n",
    "\n",
    "# This function takes 2 arguments, \n",
    "#   - an optional keras model,\n",
    "#   - Canvas Width allows user to set the pixel height and width of the drawing box\n",
    "#\n",
    "#  The function returns a 28*28 matrix of  pixel values made from the canvas drawing\n",
    "#  if a keras model is also provided then the function will plot prediction results too\n",
    "\n",
    "def DrawMyOwnNumbers(Kerasmodel=None,CanvasWidth=200):\n",
    "    DrawnOutMatrix=0\n",
    "    width=CanvasWidth\n",
    "    white = (255, 255, 255)\n",
    "    black = (0, 0, 0)\n",
    "\n",
    "    b1 = \"up\"\n",
    "    xold, yold = None, None    \n",
    "\n",
    "    def b1down(event):\n",
    "        nonlocal b1\n",
    "        b1 = \"down\"           \n",
    "\n",
    "    def b1up(event):\n",
    "        nonlocal b1, xold, yold\n",
    "        b1 = \"up\"\n",
    "        xold = None\n",
    "        yold = None\n",
    "    def motion(event):\n",
    "            if b1 == \"down\":\n",
    "                nonlocal xold, yold\n",
    "                if xold is not None and yold is not None:\n",
    "                    event.widget.create_line(xold,yold,event.x,event.y)\n",
    "                    draw.line([xold,yold,event.x,event.y], black)\n",
    "                xold = event.x\n",
    "                yold = event.y\n",
    "    root = Tk()\n",
    "\n",
    "    drawing_area = Canvas(root,width=width,height=width)\n",
    "    image1 = Image.new(\"RGB\", (width, width), white)\n",
    "    draw = ImageDraw.Draw(image1)\n",
    "    drawing_area.pack()\n",
    "    drawing_area.bind(\"<Motion>\", motion)\n",
    "    drawing_area.bind(\"<ButtonPress-1>\", b1down)\n",
    "    drawing_area.bind(\"<ButtonRelease-1>\", b1up)\n",
    "    \n",
    "    def handle_click():\n",
    "        nonlocal DrawnOutMatrix\n",
    "        nonlocal root\n",
    "        root.destroy()\n",
    "        %matplotlib inline\n",
    "\n",
    "\n",
    "        filename = \"4my_drawing.bmp\"\n",
    "        image1.save(filename)\n",
    "        II=np.asarray(mpimg.imread(filename))\n",
    "        II=np.apply_along_axis(np.min,2,II)\n",
    "        \n",
    "\n",
    "        data=np.asarray([[i,j] for i in range(width) for j in range(width) if II[j,i]==0]).astype('float64')\n",
    "        datax=data[:,0]\n",
    "        datay=data[:,1]\n",
    "        \n",
    "        # centre and scale the pixels\n",
    "        datax -= np.mean(datax)\n",
    "        datay -= np.mean(datay)\n",
    "        scaling = np.max(np.abs([datax.min(),datax.max(),datay.min(),datay.max()]))\n",
    "        datax *= 1/scaling\n",
    "        datay *= 1/scaling\n",
    "      \n",
    "        posn = np.linspace(-1.2,1.2, 28)\n",
    "        sx = -0.5*(1/0.06)**2\n",
    "        def kde(x,y):\n",
    "            return(np.min([np.sum(np.exp(sx*((x-datax)**2+(y-datay)**2))),5]))\n",
    "\n",
    "        output=np.asarray([[kde(x,y) for x in posn] for y in posn])\n",
    "        output=output/output.max()\n",
    "        output1=np.asarray([[[ [output[j,i]] for i in np.arange(28)] for j in np.arange(28)]])\n",
    "        DrawnOutMatrix=output1[0,:,:,0]\n",
    "        \n",
    "        if Kerasmodel:\n",
    "            p= Kerasmodel.predict_proba(output1,verbose=1==2)[0]\n",
    "\n",
    "            f, (ax1, ax2, ax3) = plt.subplots(1, 3,figsize=(15,5))\n",
    "            ax1.imshow(255-II,cmap='Greys')\n",
    "\n",
    "            def PlotMnist(inn,ax):\n",
    "                ax.imshow(inn[0,:,:,0],cmap='Greys')\n",
    "\n",
    "            PlotMnist(output1,ax2)\n",
    "            ax3.bar(np.arange(10),p,0.8,color='g')\n",
    "\n",
    "\n",
    "    Button(root, text='classify!', command=handle_click).pack()\n",
    "    root.mainloop()\n",
    "    return DrawnOutMatrix"
   ]
  },
  {
   "cell_type": "markdown",
   "metadata": {},
   "source": [
    "---\n",
    "# Train a quick model on Mnist numbers\n",
    "This first block of code defines a simple neural network, imaginatively called \"model\", 784 inputs for 28*28 pixels, then two hidden layers of 128 nodes each, the final layer is 10 outputs giving the probabilty of each class, 0, 1, .... 9. This model is trained for one epoch (one lap of the training set) and reaches 91.16% test set accuracy, more epochs and layers can be added to improve accuracy. This is a simplified version of code from the brilliant Francois Chollet [https://github.com/fchollet](https://github.com/fchollet)"
   ]
  },
  {
   "cell_type": "code",
   "execution_count": 4,
   "metadata": {},
   "outputs": [
    {
     "name": "stdout",
     "output_type": "stream",
     "text": [
      "x_train shape: (60000, 28, 28, 1)\n",
      "60000 train samples\n",
      "10000 test samples\n",
      "Train on 60000 samples, validate on 10000 samples\n",
      "Epoch 1/4\n",
      "60000/60000 [==============================] - 3s - loss: 0.4222 - acc: 0.8819 - val_loss: 0.2147 - val_acc: 0.9383\n",
      "Epoch 2/4\n",
      "60000/60000 [==============================] - 3s - loss: 0.1935 - acc: 0.9447 - val_loss: 0.1712 - val_acc: 0.9491\n",
      "Epoch 3/4\n",
      "60000/60000 [==============================] - 3s - loss: 0.1507 - acc: 0.9568 - val_loss: 0.1492 - val_acc: 0.9566\n",
      "Epoch 4/4\n",
      "60000/60000 [==============================] - 3s - loss: 0.1246 - acc: 0.9644 - val_loss: 0.1236 - val_acc: 0.9633\n",
      "Test loss: 0.123639595888\n",
      "Test accuracy: 0.9633\n"
     ]
    }
   ],
   "source": [
    "from __future__ import print_function\n",
    "import keras\n",
    "from keras.datasets import mnist\n",
    "from keras.models import Sequential\n",
    "from keras.layers import Dense, Dropout, Flatten\n",
    "from keras.layers import Conv2D, MaxPooling2D\n",
    "from keras import backend as K\n",
    "\n",
    "batch_size = 128\n",
    "num_classes = 10\n",
    "epochs = 4\n",
    "\n",
    "# input image dimensions\n",
    "img_rows, img_cols = 28, 28\n",
    "\n",
    "# the data, shuffled and split between train and test sets\n",
    "(x_train, y_train), (x_test, y_test) = mnist.load_data()\n",
    "\n",
    "if K.image_data_format() == 'channels_first':\n",
    "    x_train = x_train.reshape(x_train.shape[0], 1, img_rows, img_cols)\n",
    "    x_test = x_test.reshape(x_test.shape[0], 1, img_rows, img_cols)\n",
    "    input_shape = (1, img_rows, img_cols)\n",
    "else:\n",
    "    x_train = x_train.reshape(x_train.shape[0], img_rows, img_cols, 1)\n",
    "    x_test = x_test.reshape(x_test.shape[0], img_rows, img_cols, 1)\n",
    "    input_shape = (img_rows, img_cols, 1)\n",
    "\n",
    "x_train = x_train.astype('float32')\n",
    "x_test = x_test.astype('float32')\n",
    "x_train /= 255\n",
    "x_test /= 255\n",
    "print('x_train shape:', x_train.shape)\n",
    "print(x_train.shape[0], 'train samples')\n",
    "print(x_test.shape[0], 'test samples')\n",
    "\n",
    "# convert class vectors to binary class matrices\n",
    "y_train = keras.utils.to_categorical(y_train, num_classes)\n",
    "y_test = keras.utils.to_categorical(y_test, num_classes)\n",
    "\n",
    "model = Sequential()\n",
    "model.add(Flatten(input_shape=input_shape))\n",
    "model.add(Dense(128, activation='relu'))\n",
    "model.add(Dense(128, activation='relu'))\n",
    "model.add(Dense(num_classes, activation='softmax'))\n",
    "\n",
    "model.compile(loss=keras.losses.categorical_crossentropy,\n",
    "              optimizer=keras.optimizers.Adadelta(),\n",
    "              metrics=['accuracy'])\n",
    "\n",
    "model.fit(x_train, y_train,\n",
    "          batch_size=batch_size,\n",
    "          epochs=epochs,\n",
    "          verbose=1,\n",
    "          validation_data=(x_test, y_test))\n",
    "score = model.evaluate(x_test, y_test, verbose=0)\n",
    "print('Test loss:', score[0])\n",
    "print('Test accuracy:', score[1])"
   ]
  },
  {
   "cell_type": "markdown",
   "metadata": {},
   "source": [
    "---\n",
    "# Call the DrawMyOwnNumbers function\n",
    "We've trained a model, lets see if it can recognise our writing. A white box will appear, draw your number and click classify! The white box will remain but just click back to this window to continue. Then the code will convert the drawing to Mnist style and put it onto your keras model which will then be used to predict what number the drawing is!"
   ]
  },
  {
   "cell_type": "code",
   "execution_count": 56,
   "metadata": {},
   "outputs": [
    {
     "data": {
      "image/png": "[encoded data removed]",
      "text/plain": [
       "<matplotlib.figure.Figure at 0x1312a6e80>"
      ]
     },
     "metadata": {},
     "output_type": "display_data"
    }
   ],
   "source": [
    "A=DrawMyOwnNumbers(model)"
   ]
  },
  {
   "cell_type": "code",
   "execution_count": null,
   "metadata": {
    "collapsed": true
   },
   "outputs": [],
   "source": []
  }
 ],
 "metadata": {
  "kernelspec": {
   "display_name": "Python [conda env:KerasMnist]",
   "language": "python",
   "name": "conda-env-KerasMnist-py"
  },
  "language_info": {
   "codemirror_mode": {
    "name": "ipython",
    "version": 3
   },
   "file_extension": ".py",
   "mimetype": "text/x-python",
   "name": "python",
   "nbconvert_exporter": "python",
   "pygments_lexer": "ipython3",
   "version": "3.6.1"
  }
 },
 "nbformat": 4,
 "nbformat_minor": 2
}
